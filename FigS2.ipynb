{
 "cells": [
  {
   "cell_type": "code",
   "execution_count": 16,
   "id": "a03496d2-6113-4d60-b7aa-01d824f999bf",
   "metadata": {
    "tags": []
   },
   "outputs": [],
   "source": [
    "import numpy as np\n",
    "import xarray as xr\n",
    "import matplotlib.pylab as plt"
   ]
  },
  {
   "cell_type": "code",
   "execution_count": 17,
   "id": "52b8f1b1-87c1-4fa3-b967-ba67de6da725",
   "metadata": {
    "tags": []
   },
   "outputs": [],
   "source": [
    "from core_fct.mod_process import OSCAR\n",
    "from core_fct.fct_loadP import load_all_param\n",
    "from core_fct.fct_genMC import generate_config\n",
    "from run_scripts.get_SSP_drivers import For_hist\n",
    "from run_scripts.get_SSP_drivers import For_scen"
   ]
  },
  {
   "cell_type": "code",
   "execution_count": 18,
   "id": "3a58ed74-f1e6-4f9e-8303-8c3b75a3c40a",
   "metadata": {
    "tags": []
   },
   "outputs": [],
   "source": [
    "from matplotlib.gridspec import GridSpec"
   ]
  },
  {
   "cell_type": "code",
   "execution_count": 19,
   "id": "225b79bf-384b-4ce8-aea4-f60dce4ef7be",
   "metadata": {
    "tags": []
   },
   "outputs": [
    {
     "name": "stdout",
     "output_type": "stream",
     "text": [
      "loading primary parameters\n",
      "generating MC configurations\n",
      "OSCAR_v3 running\n",
      "year = 2014 (nt = 3)\n",
      "total running time: 4.8 minutes\n"
     ]
    }
   ],
   "source": [
    "Par0 = load_all_param(mod_region='RCP_5reg')\n",
    "Par = generate_config(Par0, nMC=200)\n",
    "Par = xr.merge([Par, For_hist.drop([VAR for VAR in For_hist if 'year' in For_hist[VAR].dims])])\n",
    "For_hist = For_hist.drop([VAR for VAR in For_hist if 'year' not in For_hist[VAR].dims])\n",
    "\n",
    "Out_hist = OSCAR(Ini=None, Par=Par, For=For_hist)"
   ]
  },
  {
   "cell_type": "code",
   "execution_count": 20,
   "id": "9fa52e86-2d1c-4fcc-a668-c1a9a5c9d1df",
   "metadata": {
    "tags": []
   },
   "outputs": [
    {
     "name": "stdout",
     "output_type": "stream",
     "text": [
      "OSCAR_v3 running\n",
      "year = 2100 (nt = 9)\n",
      "total running time: 5.3 minutes\n"
     ]
    }
   ],
   "source": [
    "For_scen = For_scen.sel(year=slice(None, 2100))\n",
    "Ini = Out_hist.isel(year=-1, drop=True)\n",
    "var_keep = ['D_Eluc', 'D_Focean', 'D_Fland', 'D_Epf'] + ['tau_CH4', 'tau_N2O'] + ['RF_CH4','RF_O3t']+['D_O3t']+['f_kOH_O3P']\n",
    "Out_scen = OSCAR(Ini=Ini, Par=Par, For=For_scen, var_keep=var_keep, nt=4)\n",
    "if False: Out_scen.to_netcdf('results/Out_scen_test.nc')\n",
    "\n",
    "import matplotlib.pyplot as plt\n",
    "def f_plot(VAR):\n",
    "    plt.figure()\n",
    "    if VAR in Out_hist:\n",
    "        plt.plot(Out_hist.year, Out_hist[VAR].mean('config'), color='k', lw=2, label='hist')\n",
    "        plt.fill_between(Out_hist.year, Out_hist[VAR].mean('config') - Out_hist[VAR].std('config'), \n",
    "            Out_hist[VAR].mean('config') + Out_hist[VAR].std('config'), color='k', alpha=0.5)\n",
    "    for scen in Out_scen.scen.values:\n",
    "        plt.plot(Out_scen.year, Out_scen[VAR].sel(scen=scen).mean('config'), lw=2, label=scen)\n",
    "        plt.fill_between(Out_scen.year, Out_scen[VAR].sel(scen=scen).mean('config') - Out_scen[VAR].sel(scen=scen).std('config'), \n",
    "            Out_scen[VAR].sel(scen=scen).mean('config') + Out_scen[VAR].sel(scen=scen).std('config'), alpha=0.5)\n",
    "    plt.title(VAR + ' (' + Out_scen[VAR].units + ')')\n"
   ]
  },
  {
   "cell_type": "code",
   "execution_count": 21,
   "id": "5c295878-d5b5-40b4-9e3a-ee636bd2efb8",
   "metadata": {
    "tags": []
   },
   "outputs": [],
   "source": [
    "Ini = Out_hist.isel(year=-1, drop=True)\n",
    "x2_OH_NOX = 0.00414\n",
    "x2_OH_CO = -0.00024\n",
    "x2_OH_VOC = -0.00027\n",
    "Ini['D_CH4'] = 1822.61-Par0.CH4_0 # https://gml.noaa.gov/webdata/ccgg/trends/ch4/ch4_annmean_gl.txt"
   ]
  },
  {
   "cell_type": "code",
   "execution_count": 22,
   "id": "5cb77d85-e677-4409-8d76-61bb03e6b4f4",
   "metadata": {
    "tags": []
   },
   "outputs": [],
   "source": [
    "Par_tmp = Par.copy(deep=True)\n",
    "For_scen_tmp = For_scen.sel(year=slice(None, 2050)).copy(deep=True).drop_vars('D_CH4')"
   ]
  },
  {
   "cell_type": "code",
   "execution_count": 23,
   "id": "b9fb6a97-e329-486e-bf28-540e51a3f740",
   "metadata": {
    "tags": []
   },
   "outputs": [],
   "source": [
    "Par_tmp.kOH_is_Log.values = np.array([False]*200)\n",
    "\n",
    "Par_tmp.x2_OH_NOX.values = np.array([0.00414]*200)\n",
    "Par_tmp.x2_OH_CO.values = np.array([-0.00024]*200)\n",
    "Par_tmp.x2_OH_VOC.values = np.array(-0.00027)"
   ]
  },
  {
   "cell_type": "code",
   "execution_count": 24,
   "id": "4d95a04d-f49d-4bcd-9873-187f29b280ed",
   "metadata": {
    "tags": []
   },
   "outputs": [
    {
     "name": "stdout",
     "output_type": "stream",
     "text": [
      "OSCAR_v3 running\n",
      "year = 2030 (nt = 4)\n",
      "total running time: 0.7 minutes\n"
     ]
    }
   ],
   "source": [
    "Out_scen = OSCAR(Ini=Ini, Par=Par_tmp, For=For_scen.copy(deep=True).sel(year=slice(2014,2030)), var_keep=var_keep, nt=4)"
   ]
  },
  {
   "cell_type": "markdown",
   "id": "5cb8c540-5001-48e8-84f9-98ca050a8269",
   "metadata": {
    "tags": []
   },
   "source": [
    "# 甲烷控制效应\n",
    "以Global methane pledge (GMP)"
   ]
  },
  {
   "cell_type": "code",
   "execution_count": 37,
   "id": "fe5f768e-d87e-43dc-9b5e-3a7efeaa6ae5",
   "metadata": {
    "tags": []
   },
   "outputs": [],
   "source": [
    "## 生成三个排放情景\n",
    "\n",
    "## 2014-2019 (CEDS)\n",
    "CEDS_CH4 = [270.2496358,269.8280079,267.9817751,268.1138598,270.537411,271.6083044]\n",
    "CEDS_NOX = [38.59678516,37.98745474,37.48333497,37.43483474,37.16926467,36.81225668]\n",
    "CEDS_CO = [247.089963,241.5313653,233.9000087,230.9691292,228.7215534,226.6449276]\n",
    "CEDS_VOC = [149.9870685,148.9745692,148.276486,148.5098291,147.521796,146.6675455]\n",
    "\n",
    "For_scen_real = For_scen_tmp.copy(deep=True).sel(scen=['SSP5-8.5','SSP5-8.5','SSP5-8.5']).assign_coords(scen=np.array(['middle','clean','polluted']))\n",
    "For_scen_real.E_CH4[0,6:] -= (For_scen_real.E_CH4.sel(year=2019).sum('reg_land').values-CEDS_CH4[-1])\n",
    "for i in range(len(CEDS_CH4)):\n",
    "    For_scen_real.E_CH4[:,i] *=0\n",
    "    For_scen_real.E_CH4[0,i] +=CEDS_CH4[i]\n",
    "for var in ['E_NOX','E_CO','E_VOC',]:\n",
    "    For_scen_real[var][...,0] = For_scen_tmp[var].copy(deep=True).sel(scen='SSP2-4.5')\n",
    "    For_scen_real[var][...,1] = For_scen_tmp[var].copy(deep=True).sel(scen='SSP1-1.9')\n",
    "    For_scen_real[var][...,2] = For_scen_tmp[var].copy(deep=True).sel(scen='SSP3-7.0')\n",
    "For_scen_real.E_NOX[0,6:] -= (For_scen_real.E_NOX.sel(year=2019).sum('reg_land').values-CEDS_NOX[-1])\n",
    "For_scen_real.E_CO[0,6:] -= (For_scen_real.E_CO.sel(year=2019).sum('reg_land').values-CEDS_CO[-1])\n",
    "For_scen_real.E_VOC[0,6:] -= (For_scen_real.E_VOC.sel(year=2019).sum('reg_land').values-CEDS_VOC[-1])\n",
    "\n",
    "for i in range(len(CEDS_CH4)):\n",
    "    For_scen_real.E_NOX[:,i] *=0\n",
    "    For_scen_real.E_NOX[0,i] +=CEDS_NOX[i]\n",
    "    For_scen_real.E_CO[:,i] *=0\n",
    "    For_scen_real.E_CO[0,i] +=CEDS_CO[i]\n",
    "    For_scen_real.E_VOC[:,i] *=0\n",
    "    For_scen_real.E_VOC[0,i] +=CEDS_VOC[i]"
   ]
  },
  {
   "cell_type": "code",
   "execution_count": 38,
   "id": "8d6c0bb4-30dc-4e86-bb42-d7157410cddb",
   "metadata": {
    "tags": []
   },
   "outputs": [],
   "source": [
    "Par_tmp['t_OH_CH4'] *= 0\n",
    "Par_tmp['t_OH_CH4'] += 11.2"
   ]
  },
  {
   "cell_type": "code",
   "execution_count": 39,
   "id": "e7b58680-2248-4dbd-b003-253158860a60",
   "metadata": {
    "tags": []
   },
   "outputs": [
    {
     "name": "stdout",
     "output_type": "stream",
     "text": [
      "OSCAR_v3 running\n",
      "year = 2050 (nt = 4)\n",
      "total running time: 1.6 minutes\n"
     ]
    }
   ],
   "source": [
    "Out_scen_real = OSCAR(Ini=Ini, Par=Par_tmp, For=For_scen_real, var_keep=var_keep+['f_kOH','f_kOH_O3P', 'D_Ebb'], nt=4)"
   ]
  },
  {
   "cell_type": "code",
   "execution_count": 40,
   "id": "b9ac2070-5659-4d5a-a232-bad457400103",
   "metadata": {
    "tags": []
   },
   "outputs": [],
   "source": [
    "color_list = ['k','#41B365','#741A88',]"
   ]
  },
  {
   "cell_type": "code",
   "execution_count": 46,
   "id": "89cc6299-576a-4247-add9-8664f6dcd3b5",
   "metadata": {
    "tags": []
   },
   "outputs": [
    {
     "data": {
      "image/png": "[encoded data removed]",
      "text/plain": [
       "<Figure size 640x480 with 1 Axes>"
      ]
     },
     "metadata": {},
     "output_type": "display_data"
    }
   ],
   "source": [
    "fig, ax = plt.subplots()\n",
    "\n",
    "# ax.plot(Out_scen_real.year.sel(year=slice(2019,2050)),Out_scen_real.isel(scen=0).D_CH4.mean('config').sel(year=slice(2019,2050))+Par0.CH4_0,label='non-mitigation',\n",
    "#          linestyle='-',color='r')\n",
    "label_list = ['SSP5-85 $CH_4$ X middel','SSP5-85 $CH_4$ X clean','SSP5-85 $CH_4$ X polluted']\n",
    "for i in [1,0,2]:\n",
    "    if i == 0:\n",
    "        linestyle = '-'\n",
    "    else:\n",
    "        linestyle = '--'\n",
    "    ax.plot(Out_scen_real.year.sel(year=slice(2019,2050)),Out_scen_real.isel(scen=i).D_CH4.mean('config').sel(year=slice(2019,2050))+Par0.CH4_0,label=label_list[i],\n",
    "             linestyle=linestyle,color=color_list[i])\n",
    "ax.plot(Out_scen_real.year.sel(year=slice(2014,2019)),Out_scen_real.D_CH4.sel(year=slice(2014,2019)).mean('config')+Par0.CH4_0,color='grey')\n",
    "\n",
    "\n",
    "def plot_quiver(ax,point1,point2,color='k',linestyle='-',headwidth=3.5):\n",
    "    x0,y0 = point1\n",
    "    x1,y1 = point2\n",
    "    ax.plot([x0,x1],[y0,y1],color=color,linestyle=linestyle)\n",
    "    ax.quiver(x1,y1,(x1-x0),(y1-y0),color=color, width=.01,headwidth=headwidth,)\n",
    "\n",
    "\n",
    "\n",
    "\n",
    "ax.set_ylabel('$[CH_4]$ (ppb)')\n",
    "ax.set_xlabel('year')\n",
    "ax.legend(loc='lower right',frameon=False)\n",
    "ax.set_xlim(2013,2054)\n",
    "fig.savefig('测试甲烷ssp585.pdf',dpi=300)"
   ]
  }
 ],
 "metadata": {
  "kernelspec": {
   "display_name": "Python 3 (ipykernel)",
   "language": "python",
   "name": "python3"
  },
  "language_info": {
   "codemirror_mode": {
    "name": "ipython",
    "version": 3
   },
   "file_extension": ".py",
   "mimetype": "text/x-python",
   "name": "python",
   "nbconvert_exporter": "python",
   "pygments_lexer": "ipython3",
   "version": "3.11.7"
  }
 },
 "nbformat": 4,
 "nbformat_minor": 5
}
